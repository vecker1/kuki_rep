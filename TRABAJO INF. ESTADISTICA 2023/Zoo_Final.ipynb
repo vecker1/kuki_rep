{
 "cells": [
  {
   "cell_type": "code",
   "execution_count": 1012,
   "metadata": {},
   "outputs": [],
   "source": [
    "#importando bibliotecas\n",
    "import pandas as pd\n",
    "import matplotlib.pyplot as plt\n",
    "import numpy as np\n",
    "import seaborn as sns\n",
    "import plotly.express as px\n",
    "from sklearn.model_selection import GridSearchCV\n",
    "from sklearn.neighbors import KNeighborsClassifier\n",
    "from sklearn.model_selection import train_test_split\n",
    "from sklearn.metrics import confusion_matrix, f1_score, classification_report, accuracy_score\n",
    "from sklearn.model_selection import StratifiedKFold\n",
    "from sklearn.neural_network import MLPClassifier\n",
    "import torch\n",
    "from torch import nn"
   ]
  },
  {
   "cell_type": "code",
   "execution_count": 1013,
   "metadata": {},
   "outputs": [],
   "source": [
    "df_zoo = pd.read_csv('zootest.csv')\n",
    "class_data = pd.read_csv('name_fix.csv')"
   ]
  },
  {
   "cell_type": "code",
   "execution_count": 1014,
   "metadata": {},
   "outputs": [
    {
     "data": {
      "text/html": [
       "<div>\n",
       "<style scoped>\n",
       "    .dataframe tbody tr th:only-of-type {\n",
       "        vertical-align: middle;\n",
       "    }\n",
       "\n",
       "    .dataframe tbody tr th {\n",
       "        vertical-align: top;\n",
       "    }\n",
       "\n",
       "    .dataframe thead th {\n",
       "        text-align: right;\n",
       "    }\n",
       "</style>\n",
       "<table border=\"1\" class=\"dataframe\">\n",
       "  <thead>\n",
       "    <tr style=\"text-align: right;\">\n",
       "      <th></th>\n",
       "      <th>animal_name</th>\n",
       "      <th>hair_boolean</th>\n",
       "      <th>feathers_boolean</th>\n",
       "      <th>eggs_boolean</th>\n",
       "      <th>milk_boolean</th>\n",
       "      <th>airborne_boolean</th>\n",
       "      <th>aquatic_boolean</th>\n",
       "      <th>predator_boolean</th>\n",
       "      <th>toothed_boolean</th>\n",
       "      <th>backbone_boolean</th>\n",
       "      <th>breathes_boolean</th>\n",
       "      <th>venomous_boolean</th>\n",
       "      <th>fins_boolean</th>\n",
       "      <th>legs_numeric</th>\n",
       "      <th>tail_boolean</th>\n",
       "      <th>domestic_boolean</th>\n",
       "      <th>catsize_boolean</th>\n",
       "      <th>type_numeric</th>\n",
       "    </tr>\n",
       "  </thead>\n",
       "  <tbody>\n",
       "    <tr>\n",
       "      <th>0</th>\n",
       "      <td>aardvark</td>\n",
       "      <td>1</td>\n",
       "      <td>0</td>\n",
       "      <td>0</td>\n",
       "      <td>1</td>\n",
       "      <td>0</td>\n",
       "      <td>0</td>\n",
       "      <td>1</td>\n",
       "      <td>1</td>\n",
       "      <td>1</td>\n",
       "      <td>1</td>\n",
       "      <td>0</td>\n",
       "      <td>0</td>\n",
       "      <td>4</td>\n",
       "      <td>0</td>\n",
       "      <td>0</td>\n",
       "      <td>1</td>\n",
       "      <td>1</td>\n",
       "    </tr>\n",
       "    <tr>\n",
       "      <th>1</th>\n",
       "      <td>antelope</td>\n",
       "      <td>1</td>\n",
       "      <td>0</td>\n",
       "      <td>0</td>\n",
       "      <td>1</td>\n",
       "      <td>0</td>\n",
       "      <td>0</td>\n",
       "      <td>0</td>\n",
       "      <td>1</td>\n",
       "      <td>1</td>\n",
       "      <td>1</td>\n",
       "      <td>0</td>\n",
       "      <td>0</td>\n",
       "      <td>4</td>\n",
       "      <td>1</td>\n",
       "      <td>0</td>\n",
       "      <td>1</td>\n",
       "      <td>1</td>\n",
       "    </tr>\n",
       "    <tr>\n",
       "      <th>2</th>\n",
       "      <td>bass</td>\n",
       "      <td>0</td>\n",
       "      <td>0</td>\n",
       "      <td>1</td>\n",
       "      <td>0</td>\n",
       "      <td>0</td>\n",
       "      <td>1</td>\n",
       "      <td>1</td>\n",
       "      <td>1</td>\n",
       "      <td>1</td>\n",
       "      <td>0</td>\n",
       "      <td>0</td>\n",
       "      <td>1</td>\n",
       "      <td>0</td>\n",
       "      <td>1</td>\n",
       "      <td>0</td>\n",
       "      <td>0</td>\n",
       "      <td>4</td>\n",
       "    </tr>\n",
       "    <tr>\n",
       "      <th>3</th>\n",
       "      <td>bear</td>\n",
       "      <td>1</td>\n",
       "      <td>0</td>\n",
       "      <td>0</td>\n",
       "      <td>1</td>\n",
       "      <td>0</td>\n",
       "      <td>0</td>\n",
       "      <td>1</td>\n",
       "      <td>1</td>\n",
       "      <td>1</td>\n",
       "      <td>1</td>\n",
       "      <td>0</td>\n",
       "      <td>0</td>\n",
       "      <td>4</td>\n",
       "      <td>0</td>\n",
       "      <td>0</td>\n",
       "      <td>1</td>\n",
       "      <td>1</td>\n",
       "    </tr>\n",
       "    <tr>\n",
       "      <th>4</th>\n",
       "      <td>boar</td>\n",
       "      <td>1</td>\n",
       "      <td>0</td>\n",
       "      <td>0</td>\n",
       "      <td>1</td>\n",
       "      <td>0</td>\n",
       "      <td>0</td>\n",
       "      <td>1</td>\n",
       "      <td>1</td>\n",
       "      <td>1</td>\n",
       "      <td>1</td>\n",
       "      <td>0</td>\n",
       "      <td>0</td>\n",
       "      <td>4</td>\n",
       "      <td>1</td>\n",
       "      <td>0</td>\n",
       "      <td>1</td>\n",
       "      <td>1</td>\n",
       "    </tr>\n",
       "  </tbody>\n",
       "</table>\n",
       "</div>"
      ],
      "text/plain": [
       "  animal_name  hair_boolean  feathers_boolean  eggs_boolean  milk_boolean  \\\n",
       "0    aardvark             1                 0             0             1   \n",
       "1    antelope             1                 0             0             1   \n",
       "2        bass             0                 0             1             0   \n",
       "3        bear             1                 0             0             1   \n",
       "4        boar             1                 0             0             1   \n",
       "\n",
       "   airborne_boolean  aquatic_boolean  predator_boolean  toothed_boolean  \\\n",
       "0                 0                0                 1                1   \n",
       "1                 0                0                 0                1   \n",
       "2                 0                1                 1                1   \n",
       "3                 0                0                 1                1   \n",
       "4                 0                0                 1                1   \n",
       "\n",
       "   backbone_boolean  breathes_boolean  venomous_boolean  fins_boolean  \\\n",
       "0                 1                 1                 0             0   \n",
       "1                 1                 1                 0             0   \n",
       "2                 1                 0                 0             1   \n",
       "3                 1                 1                 0             0   \n",
       "4                 1                 1                 0             0   \n",
       "\n",
       "   legs_numeric  tail_boolean  domestic_boolean  catsize_boolean  type_numeric  \n",
       "0             4             0                 0                1             1  \n",
       "1             4             1                 0                1             1  \n",
       "2             0             1                 0                0             4  \n",
       "3             4             0                 0                1             1  \n",
       "4             4             1                 0                1             1  "
      ]
     },
     "execution_count": 1014,
     "metadata": {},
     "output_type": "execute_result"
    }
   ],
   "source": [
    "df_zoo.head()"
   ]
  },
  {
   "cell_type": "code",
   "execution_count": 1015,
   "metadata": {},
   "outputs": [
    {
     "data": {
      "text/plain": [
       "(101, 18)"
      ]
     },
     "execution_count": 1015,
     "metadata": {},
     "output_type": "execute_result"
    }
   ],
   "source": [
    "# devuelve el tamaño del conjunto de datos (filas x columnas)\n",
    "df_zoo.shape"
   ]
  },
  {
   "cell_type": "code",
   "execution_count": 1016,
   "metadata": {},
   "outputs": [
    {
     "name": "stdout",
     "output_type": "stream",
     "text": [
      "<class 'pandas.core.frame.DataFrame'>\n",
      "RangeIndex: 101 entries, 0 to 100\n",
      "Data columns (total 18 columns):\n",
      " #   Column            Non-Null Count  Dtype \n",
      "---  ------            --------------  ----- \n",
      " 0   animal_name       101 non-null    object\n",
      " 1   hair_boolean      101 non-null    int64 \n",
      " 2   feathers_boolean  101 non-null    int64 \n",
      " 3   eggs_boolean      101 non-null    int64 \n",
      " 4   milk_boolean      101 non-null    int64 \n",
      " 5   airborne_boolean  101 non-null    int64 \n",
      " 6   aquatic_boolean   101 non-null    int64 \n",
      " 7   predator_boolean  101 non-null    int64 \n",
      " 8   toothed_boolean   101 non-null    int64 \n",
      " 9   backbone_boolean  101 non-null    int64 \n",
      " 10  breathes_boolean  101 non-null    int64 \n",
      " 11  venomous_boolean  101 non-null    int64 \n",
      " 12  fins_boolean      101 non-null    int64 \n",
      " 13  legs_numeric      101 non-null    int64 \n",
      " 14  tail_boolean      101 non-null    int64 \n",
      " 15  domestic_boolean  101 non-null    int64 \n",
      " 16  catsize_boolean   101 non-null    int64 \n",
      " 17  type_numeric      101 non-null    int64 \n",
      "dtypes: int64(17), object(1)\n",
      "memory usage: 14.3+ KB\n"
     ]
    }
   ],
   "source": [
    "# trae información sobre el conjunto de datos, como el nombre de\n",
    "# cada columna y sus respectivos tipos, p.e.\n",
    "df_zoo.info()"
   ]
  },
  {
   "cell_type": "code",
   "execution_count": 1017,
   "metadata": {},
   "outputs": [
    {
     "data": {
      "text/plain": [
       "animal_name         100\n",
       "hair_boolean          2\n",
       "feathers_boolean      2\n",
       "eggs_boolean          2\n",
       "milk_boolean          2\n",
       "airborne_boolean      2\n",
       "aquatic_boolean       2\n",
       "predator_boolean      2\n",
       "toothed_boolean       2\n",
       "backbone_boolean      2\n",
       "breathes_boolean      2\n",
       "venomous_boolean      2\n",
       "fins_boolean          2\n",
       "legs_numeric          6\n",
       "tail_boolean          2\n",
       "domestic_boolean      2\n",
       "catsize_boolean       2\n",
       "type_numeric          7\n",
       "dtype: int64"
      ]
     },
     "execution_count": 1017,
     "metadata": {},
     "output_type": "execute_result"
    }
   ],
   "source": [
    "# devolver tantos tipos de valores diferentes existen en cada columna\n",
    "df_zoo.nunique()"
   ]
  },
  {
   "cell_type": "code",
   "execution_count": 1018,
   "metadata": {},
   "outputs": [
    {
     "data": {
      "text/plain": [
       "animal_name         0\n",
       "hair_boolean        0\n",
       "feathers_boolean    0\n",
       "eggs_boolean        0\n",
       "milk_boolean        0\n",
       "airborne_boolean    0\n",
       "aquatic_boolean     0\n",
       "predator_boolean    0\n",
       "toothed_boolean     0\n",
       "backbone_boolean    0\n",
       "breathes_boolean    0\n",
       "venomous_boolean    0\n",
       "fins_boolean        0\n",
       "legs_numeric        0\n",
       "tail_boolean        0\n",
       "domestic_boolean    0\n",
       "catsize_boolean     0\n",
       "type_numeric        0\n",
       "dtype: int64"
      ]
     },
     "execution_count": 1018,
     "metadata": {},
     "output_type": "execute_result"
    }
   ],
   "source": [
    "# comprueba si faltan datos y devuelve el importe\n",
    "# presente en cada columna\n",
    "df_zoo.isnull().sum()"
   ]
  },
  {
   "cell_type": "code",
   "execution_count": 1019,
   "metadata": {},
   "outputs": [],
   "source": [
    "# Visualizacion de datos\n",
    "# crea una copia del conjunto de datos y la almacena en una variable\n",
    "df_zoo_renamed = df_zoo\n"
   ]
  },
  {
   "cell_type": "code",
   "execution_count": 1020,
   "metadata": {},
   "outputs": [],
   "source": [
    "# crear un diccionario para cambiar el nombre de los valores de las columnas\n",
    "# 'type_numeric'\n",
    "remap = {\n",
    "    1 : 'Mammal',\n",
    "    2 : 'Bird',\n",
    "    3 : 'Reptile',\n",
    "    4 : 'Fish Count',\n",
    "    5 : 'Amphibian',\n",
    "    6 : 'Bug',\n",
    "    7 : 'Invertebrate'\n",
    "}\n",
    "\n",
    "# hacer una copia del marco de datos original, cambiar el nombre de los valores\n",
    "# usando remap y genera un nuevo marco de datos\n",
    "df_zoo_renamed = df_zoo.copy()\n",
    "df_zoo_renamed['type_numeric'] = df_zoo_renamed['type_numeric'].replace(remap)"
   ]
  },
  {
   "cell_type": "code",
   "execution_count": 1021,
   "metadata": {},
   "outputs": [
    {
     "data": {
      "text/plain": [
       "type_numeric\n",
       "Mammal          41\n",
       "Bird            20\n",
       "Fish Count      13\n",
       "Invertebrate    10\n",
       "Bug              8\n",
       "Reptile          5\n",
       "Amphibian        4\n",
       "Name: count, dtype: int64"
      ]
     },
     "execution_count": 1021,
     "metadata": {},
     "output_type": "execute_result"
    }
   ],
   "source": [
    "# devuelve los valores de la columna 'class_type' y cuenta el\n",
    "# número de valores únicos\n",
    "df_zoo_renamed['type_numeric'].value_counts()"
   ]
  },
  {
   "cell_type": "code",
   "execution_count": 1022,
   "metadata": {},
   "outputs": [
    {
     "data": {
      "text/html": [
       "<div>\n",
       "<style scoped>\n",
       "    .dataframe tbody tr th:only-of-type {\n",
       "        vertical-align: middle;\n",
       "    }\n",
       "\n",
       "    .dataframe tbody tr th {\n",
       "        vertical-align: top;\n",
       "    }\n",
       "\n",
       "    .dataframe thead th {\n",
       "        text-align: right;\n",
       "    }\n",
       "</style>\n",
       "<table border=\"1\" class=\"dataframe\">\n",
       "  <thead>\n",
       "    <tr style=\"text-align: right;\">\n",
       "      <th></th>\n",
       "      <th>animal_name</th>\n",
       "      <th>hair_boolean</th>\n",
       "      <th>feathers_boolean</th>\n",
       "      <th>eggs_boolean</th>\n",
       "      <th>milk_boolean</th>\n",
       "      <th>airborne_boolean</th>\n",
       "      <th>aquatic_boolean</th>\n",
       "      <th>predator_boolean</th>\n",
       "      <th>toothed_boolean</th>\n",
       "      <th>backbone_boolean</th>\n",
       "      <th>breathes_boolean</th>\n",
       "      <th>venomous_boolean</th>\n",
       "      <th>fins_boolean</th>\n",
       "      <th>legs_numeric</th>\n",
       "      <th>tail_boolean</th>\n",
       "      <th>domestic_boolean</th>\n",
       "      <th>catsize_boolean</th>\n",
       "      <th>type_numeric</th>\n",
       "    </tr>\n",
       "  </thead>\n",
       "  <tbody>\n",
       "    <tr>\n",
       "      <th>0</th>\n",
       "      <td>aardvark</td>\n",
       "      <td>1</td>\n",
       "      <td>0</td>\n",
       "      <td>0</td>\n",
       "      <td>1</td>\n",
       "      <td>0</td>\n",
       "      <td>0</td>\n",
       "      <td>1</td>\n",
       "      <td>1</td>\n",
       "      <td>1</td>\n",
       "      <td>1</td>\n",
       "      <td>0</td>\n",
       "      <td>0</td>\n",
       "      <td>4</td>\n",
       "      <td>0</td>\n",
       "      <td>0</td>\n",
       "      <td>1</td>\n",
       "      <td>1</td>\n",
       "    </tr>\n",
       "    <tr>\n",
       "      <th>1</th>\n",
       "      <td>antelope</td>\n",
       "      <td>1</td>\n",
       "      <td>0</td>\n",
       "      <td>0</td>\n",
       "      <td>1</td>\n",
       "      <td>0</td>\n",
       "      <td>0</td>\n",
       "      <td>0</td>\n",
       "      <td>1</td>\n",
       "      <td>1</td>\n",
       "      <td>1</td>\n",
       "      <td>0</td>\n",
       "      <td>0</td>\n",
       "      <td>4</td>\n",
       "      <td>1</td>\n",
       "      <td>0</td>\n",
       "      <td>1</td>\n",
       "      <td>1</td>\n",
       "    </tr>\n",
       "    <tr>\n",
       "      <th>2</th>\n",
       "      <td>bass</td>\n",
       "      <td>0</td>\n",
       "      <td>0</td>\n",
       "      <td>1</td>\n",
       "      <td>0</td>\n",
       "      <td>0</td>\n",
       "      <td>1</td>\n",
       "      <td>1</td>\n",
       "      <td>1</td>\n",
       "      <td>1</td>\n",
       "      <td>0</td>\n",
       "      <td>0</td>\n",
       "      <td>1</td>\n",
       "      <td>0</td>\n",
       "      <td>1</td>\n",
       "      <td>0</td>\n",
       "      <td>0</td>\n",
       "      <td>4</td>\n",
       "    </tr>\n",
       "    <tr>\n",
       "      <th>3</th>\n",
       "      <td>bear</td>\n",
       "      <td>1</td>\n",
       "      <td>0</td>\n",
       "      <td>0</td>\n",
       "      <td>1</td>\n",
       "      <td>0</td>\n",
       "      <td>0</td>\n",
       "      <td>1</td>\n",
       "      <td>1</td>\n",
       "      <td>1</td>\n",
       "      <td>1</td>\n",
       "      <td>0</td>\n",
       "      <td>0</td>\n",
       "      <td>4</td>\n",
       "      <td>0</td>\n",
       "      <td>0</td>\n",
       "      <td>1</td>\n",
       "      <td>1</td>\n",
       "    </tr>\n",
       "    <tr>\n",
       "      <th>4</th>\n",
       "      <td>boar</td>\n",
       "      <td>1</td>\n",
       "      <td>0</td>\n",
       "      <td>0</td>\n",
       "      <td>1</td>\n",
       "      <td>0</td>\n",
       "      <td>0</td>\n",
       "      <td>1</td>\n",
       "      <td>1</td>\n",
       "      <td>1</td>\n",
       "      <td>1</td>\n",
       "      <td>0</td>\n",
       "      <td>0</td>\n",
       "      <td>4</td>\n",
       "      <td>1</td>\n",
       "      <td>0</td>\n",
       "      <td>1</td>\n",
       "      <td>1</td>\n",
       "    </tr>\n",
       "  </tbody>\n",
       "</table>\n",
       "</div>"
      ],
      "text/plain": [
       "  animal_name  hair_boolean  feathers_boolean  eggs_boolean  milk_boolean  \\\n",
       "0    aardvark             1                 0             0             1   \n",
       "1    antelope             1                 0             0             1   \n",
       "2        bass             0                 0             1             0   \n",
       "3        bear             1                 0             0             1   \n",
       "4        boar             1                 0             0             1   \n",
       "\n",
       "   airborne_boolean  aquatic_boolean  predator_boolean  toothed_boolean  \\\n",
       "0                 0                0                 1                1   \n",
       "1                 0                0                 0                1   \n",
       "2                 0                1                 1                1   \n",
       "3                 0                0                 1                1   \n",
       "4                 0                0                 1                1   \n",
       "\n",
       "   backbone_boolean  breathes_boolean  venomous_boolean  fins_boolean  \\\n",
       "0                 1                 1                 0             0   \n",
       "1                 1                 1                 0             0   \n",
       "2                 1                 0                 0             1   \n",
       "3                 1                 1                 0             0   \n",
       "4                 1                 1                 0             0   \n",
       "\n",
       "   legs_numeric  tail_boolean  domestic_boolean  catsize_boolean  type_numeric  \n",
       "0             4             0                 0                1             1  \n",
       "1             4             1                 0                1             1  \n",
       "2             0             1                 0                0             4  \n",
       "3             4             0                 0                1             1  \n",
       "4             4             1                 0                1             1  "
      ]
     },
     "execution_count": 1022,
     "metadata": {},
     "output_type": "execute_result"
    }
   ],
   "source": [
    "df_zoo.head()"
   ]
  },
  {
   "cell_type": "code",
   "execution_count": 1023,
   "metadata": {},
   "outputs": [
    {
     "data": {
      "application/vnd.plotly.v1+json": {
       "config": {
        "plotlyServerURL": "https://plot.ly"
       },
       "data": [
        {
         "alignmentgroup": "True",
         "bingroup": "x",
         "hovertemplate": "type_numeric=%{x}<br>count=%{y}<extra></extra>",
         "legendgroup": "",
         "marker": {
          "color": "#636efa",
          "pattern": {
           "shape": ""
          }
         },
         "name": "",
         "offsetgroup": "",
         "orientation": "v",
         "showlegend": false,
         "type": "histogram",
         "x": [
          "Mammal",
          "Mammal",
          "Fish Count",
          "Mammal",
          "Mammal",
          "Mammal",
          "Mammal",
          "Fish Count",
          "Fish Count",
          "Mammal",
          "Mammal",
          "Bird",
          "Fish Count",
          "Invertebrate",
          "Invertebrate",
          "Invertebrate",
          "Bird",
          "Mammal",
          "Fish Count",
          "Mammal",
          "Bird",
          "Bird",
          "Mammal",
          "Bird",
          "Bug",
          "Amphibian",
          "Amphibian",
          "Mammal",
          "Mammal",
          "Mammal",
          "Bug",
          "Mammal",
          "Mammal",
          "Bird",
          "Fish Count",
          "Mammal",
          "Mammal",
          "Bird",
          "Fish Count",
          "Bug",
          "Bug",
          "Bird",
          "Bug",
          "Bird",
          "Mammal",
          "Mammal",
          "Invertebrate",
          "Mammal",
          "Mammal",
          "Mammal",
          "Mammal",
          "Bug",
          "Amphibian",
          "Invertebrate",
          "Mammal",
          "Mammal",
          "Bird",
          "Bird",
          "Bird",
          "Bird",
          "Fish Count",
          "Fish Count",
          "Reptile",
          "Mammal",
          "Mammal",
          "Mammal",
          "Mammal",
          "Mammal",
          "Mammal",
          "Mammal",
          "Mammal",
          "Bird",
          "Invertebrate",
          "Fish Count",
          "Mammal",
          "Mammal",
          "Reptile",
          "Invertebrate",
          "Bird",
          "Bird",
          "Reptile",
          "Invertebrate",
          "Fish Count",
          "Bird",
          "Mammal",
          "Invertebrate",
          "Fish Count",
          "Bird",
          "Bug",
          "Amphibian",
          "Reptile",
          "Reptile",
          "Fish Count",
          "Mammal",
          "Mammal",
          "Bird",
          "Mammal",
          "Bug",
          "Mammal",
          "Invertebrate",
          "Bird"
         ],
         "xaxis": "x",
         "yaxis": "y"
        }
       ],
       "layout": {
        "bargap": 0.2,
        "barmode": "relative",
        "height": 400,
        "legend": {
         "tracegroupgap": 0
        },
        "margin": {
         "t": 60
        },
        "template": {
         "data": {
          "bar": [
           {
            "error_x": {
             "color": "#2a3f5f"
            },
            "error_y": {
             "color": "#2a3f5f"
            },
            "marker": {
             "line": {
              "color": "#E5ECF6",
              "width": 0.5
             },
             "pattern": {
              "fillmode": "overlay",
              "size": 10,
              "solidity": 0.2
             }
            },
            "type": "bar"
           }
          ],
          "barpolar": [
           {
            "marker": {
             "line": {
              "color": "#E5ECF6",
              "width": 0.5
             },
             "pattern": {
              "fillmode": "overlay",
              "size": 10,
              "solidity": 0.2
             }
            },
            "type": "barpolar"
           }
          ],
          "carpet": [
           {
            "aaxis": {
             "endlinecolor": "#2a3f5f",
             "gridcolor": "white",
             "linecolor": "white",
             "minorgridcolor": "white",
             "startlinecolor": "#2a3f5f"
            },
            "baxis": {
             "endlinecolor": "#2a3f5f",
             "gridcolor": "white",
             "linecolor": "white",
             "minorgridcolor": "white",
             "startlinecolor": "#2a3f5f"
            },
            "type": "carpet"
           }
          ],
          "choropleth": [
           {
            "colorbar": {
             "outlinewidth": 0,
             "ticks": ""
            },
            "type": "choropleth"
           }
          ],
          "contour": [
           {
            "colorbar": {
             "outlinewidth": 0,
             "ticks": ""
            },
            "colorscale": [
             [
              0,
              "#0d0887"
             ],
             [
              0.1111111111111111,
              "#46039f"
             ],
             [
              0.2222222222222222,
              "#7201a8"
             ],
             [
              0.3333333333333333,
              "#9c179e"
             ],
             [
              0.4444444444444444,
              "#bd3786"
             ],
             [
              0.5555555555555556,
              "#d8576b"
             ],
             [
              0.6666666666666666,
              "#ed7953"
             ],
             [
              0.7777777777777778,
              "#fb9f3a"
             ],
             [
              0.8888888888888888,
              "#fdca26"
             ],
             [
              1,
              "#f0f921"
             ]
            ],
            "type": "contour"
           }
          ],
          "contourcarpet": [
           {
            "colorbar": {
             "outlinewidth": 0,
             "ticks": ""
            },
            "type": "contourcarpet"
           }
          ],
          "heatmap": [
           {
            "colorbar": {
             "outlinewidth": 0,
             "ticks": ""
            },
            "colorscale": [
             [
              0,
              "#0d0887"
             ],
             [
              0.1111111111111111,
              "#46039f"
             ],
             [
              0.2222222222222222,
              "#7201a8"
             ],
             [
              0.3333333333333333,
              "#9c179e"
             ],
             [
              0.4444444444444444,
              "#bd3786"
             ],
             [
              0.5555555555555556,
              "#d8576b"
             ],
             [
              0.6666666666666666,
              "#ed7953"
             ],
             [
              0.7777777777777778,
              "#fb9f3a"
             ],
             [
              0.8888888888888888,
              "#fdca26"
             ],
             [
              1,
              "#f0f921"
             ]
            ],
            "type": "heatmap"
           }
          ],
          "heatmapgl": [
           {
            "colorbar": {
             "outlinewidth": 0,
             "ticks": ""
            },
            "colorscale": [
             [
              0,
              "#0d0887"
             ],
             [
              0.1111111111111111,
              "#46039f"
             ],
             [
              0.2222222222222222,
              "#7201a8"
             ],
             [
              0.3333333333333333,
              "#9c179e"
             ],
             [
              0.4444444444444444,
              "#bd3786"
             ],
             [
              0.5555555555555556,
              "#d8576b"
             ],
             [
              0.6666666666666666,
              "#ed7953"
             ],
             [
              0.7777777777777778,
              "#fb9f3a"
             ],
             [
              0.8888888888888888,
              "#fdca26"
             ],
             [
              1,
              "#f0f921"
             ]
            ],
            "type": "heatmapgl"
           }
          ],
          "histogram": [
           {
            "marker": {
             "pattern": {
              "fillmode": "overlay",
              "size": 10,
              "solidity": 0.2
             }
            },
            "type": "histogram"
           }
          ],
          "histogram2d": [
           {
            "colorbar": {
             "outlinewidth": 0,
             "ticks": ""
            },
            "colorscale": [
             [
              0,
              "#0d0887"
             ],
             [
              0.1111111111111111,
              "#46039f"
             ],
             [
              0.2222222222222222,
              "#7201a8"
             ],
             [
              0.3333333333333333,
              "#9c179e"
             ],
             [
              0.4444444444444444,
              "#bd3786"
             ],
             [
              0.5555555555555556,
              "#d8576b"
             ],
             [
              0.6666666666666666,
              "#ed7953"
             ],
             [
              0.7777777777777778,
              "#fb9f3a"
             ],
             [
              0.8888888888888888,
              "#fdca26"
             ],
             [
              1,
              "#f0f921"
             ]
            ],
            "type": "histogram2d"
           }
          ],
          "histogram2dcontour": [
           {
            "colorbar": {
             "outlinewidth": 0,
             "ticks": ""
            },
            "colorscale": [
             [
              0,
              "#0d0887"
             ],
             [
              0.1111111111111111,
              "#46039f"
             ],
             [
              0.2222222222222222,
              "#7201a8"
             ],
             [
              0.3333333333333333,
              "#9c179e"
             ],
             [
              0.4444444444444444,
              "#bd3786"
             ],
             [
              0.5555555555555556,
              "#d8576b"
             ],
             [
              0.6666666666666666,
              "#ed7953"
             ],
             [
              0.7777777777777778,
              "#fb9f3a"
             ],
             [
              0.8888888888888888,
              "#fdca26"
             ],
             [
              1,
              "#f0f921"
             ]
            ],
            "type": "histogram2dcontour"
           }
          ],
          "mesh3d": [
           {
            "colorbar": {
             "outlinewidth": 0,
             "ticks": ""
            },
            "type": "mesh3d"
           }
          ],
          "parcoords": [
           {
            "line": {
             "colorbar": {
              "outlinewidth": 0,
              "ticks": ""
             }
            },
            "type": "parcoords"
           }
          ],
          "pie": [
           {
            "automargin": true,
            "type": "pie"
           }
          ],
          "scatter": [
           {
            "fillpattern": {
             "fillmode": "overlay",
             "size": 10,
             "solidity": 0.2
            },
            "type": "scatter"
           }
          ],
          "scatter3d": [
           {
            "line": {
             "colorbar": {
              "outlinewidth": 0,
              "ticks": ""
             }
            },
            "marker": {
             "colorbar": {
              "outlinewidth": 0,
              "ticks": ""
             }
            },
            "type": "scatter3d"
           }
          ],
          "scattercarpet": [
           {
            "marker": {
             "colorbar": {
              "outlinewidth": 0,
              "ticks": ""
             }
            },
            "type": "scattercarpet"
           }
          ],
          "scattergeo": [
           {
            "marker": {
             "colorbar": {
              "outlinewidth": 0,
              "ticks": ""
             }
            },
            "type": "scattergeo"
           }
          ],
          "scattergl": [
           {
            "marker": {
             "colorbar": {
              "outlinewidth": 0,
              "ticks": ""
             }
            },
            "type": "scattergl"
           }
          ],
          "scattermapbox": [
           {
            "marker": {
             "colorbar": {
              "outlinewidth": 0,
              "ticks": ""
             }
            },
            "type": "scattermapbox"
           }
          ],
          "scatterpolar": [
           {
            "marker": {
             "colorbar": {
              "outlinewidth": 0,
              "ticks": ""
             }
            },
            "type": "scatterpolar"
           }
          ],
          "scatterpolargl": [
           {
            "marker": {
             "colorbar": {
              "outlinewidth": 0,
              "ticks": ""
             }
            },
            "type": "scatterpolargl"
           }
          ],
          "scatterternary": [
           {
            "marker": {
             "colorbar": {
              "outlinewidth": 0,
              "ticks": ""
             }
            },
            "type": "scatterternary"
           }
          ],
          "surface": [
           {
            "colorbar": {
             "outlinewidth": 0,
             "ticks": ""
            },
            "colorscale": [
             [
              0,
              "#0d0887"
             ],
             [
              0.1111111111111111,
              "#46039f"
             ],
             [
              0.2222222222222222,
              "#7201a8"
             ],
             [
              0.3333333333333333,
              "#9c179e"
             ],
             [
              0.4444444444444444,
              "#bd3786"
             ],
             [
              0.5555555555555556,
              "#d8576b"
             ],
             [
              0.6666666666666666,
              "#ed7953"
             ],
             [
              0.7777777777777778,
              "#fb9f3a"
             ],
             [
              0.8888888888888888,
              "#fdca26"
             ],
             [
              1,
              "#f0f921"
             ]
            ],
            "type": "surface"
           }
          ],
          "table": [
           {
            "cells": {
             "fill": {
              "color": "#EBF0F8"
             },
             "line": {
              "color": "white"
             }
            },
            "header": {
             "fill": {
              "color": "#C8D4E3"
             },
             "line": {
              "color": "white"
             }
            },
            "type": "table"
           }
          ]
         },
         "layout": {
          "annotationdefaults": {
           "arrowcolor": "#2a3f5f",
           "arrowhead": 0,
           "arrowwidth": 1
          },
          "autotypenumbers": "strict",
          "coloraxis": {
           "colorbar": {
            "outlinewidth": 0,
            "ticks": ""
           }
          },
          "colorscale": {
           "diverging": [
            [
             0,
             "#8e0152"
            ],
            [
             0.1,
             "#c51b7d"
            ],
            [
             0.2,
             "#de77ae"
            ],
            [
             0.3,
             "#f1b6da"
            ],
            [
             0.4,
             "#fde0ef"
            ],
            [
             0.5,
             "#f7f7f7"
            ],
            [
             0.6,
             "#e6f5d0"
            ],
            [
             0.7,
             "#b8e186"
            ],
            [
             0.8,
             "#7fbc41"
            ],
            [
             0.9,
             "#4d9221"
            ],
            [
             1,
             "#276419"
            ]
           ],
           "sequential": [
            [
             0,
             "#0d0887"
            ],
            [
             0.1111111111111111,
             "#46039f"
            ],
            [
             0.2222222222222222,
             "#7201a8"
            ],
            [
             0.3333333333333333,
             "#9c179e"
            ],
            [
             0.4444444444444444,
             "#bd3786"
            ],
            [
             0.5555555555555556,
             "#d8576b"
            ],
            [
             0.6666666666666666,
             "#ed7953"
            ],
            [
             0.7777777777777778,
             "#fb9f3a"
            ],
            [
             0.8888888888888888,
             "#fdca26"
            ],
            [
             1,
             "#f0f921"
            ]
           ],
           "sequentialminus": [
            [
             0,
             "#0d0887"
            ],
            [
             0.1111111111111111,
             "#46039f"
            ],
            [
             0.2222222222222222,
             "#7201a8"
            ],
            [
             0.3333333333333333,
             "#9c179e"
            ],
            [
             0.4444444444444444,
             "#bd3786"
            ],
            [
             0.5555555555555556,
             "#d8576b"
            ],
            [
             0.6666666666666666,
             "#ed7953"
            ],
            [
             0.7777777777777778,
             "#fb9f3a"
            ],
            [
             0.8888888888888888,
             "#fdca26"
            ],
            [
             1,
             "#f0f921"
            ]
           ]
          },
          "colorway": [
           "#636efa",
           "#EF553B",
           "#00cc96",
           "#ab63fa",
           "#FFA15A",
           "#19d3f3",
           "#FF6692",
           "#B6E880",
           "#FF97FF",
           "#FECB52"
          ],
          "font": {
           "color": "#2a3f5f"
          },
          "geo": {
           "bgcolor": "white",
           "lakecolor": "white",
           "landcolor": "#E5ECF6",
           "showlakes": true,
           "showland": true,
           "subunitcolor": "white"
          },
          "hoverlabel": {
           "align": "left"
          },
          "hovermode": "closest",
          "mapbox": {
           "style": "light"
          },
          "paper_bgcolor": "white",
          "plot_bgcolor": "#E5ECF6",
          "polar": {
           "angularaxis": {
            "gridcolor": "white",
            "linecolor": "white",
            "ticks": ""
           },
           "bgcolor": "#E5ECF6",
           "radialaxis": {
            "gridcolor": "white",
            "linecolor": "white",
            "ticks": ""
           }
          },
          "scene": {
           "xaxis": {
            "backgroundcolor": "#E5ECF6",
            "gridcolor": "white",
            "gridwidth": 2,
            "linecolor": "white",
            "showbackground": true,
            "ticks": "",
            "zerolinecolor": "white"
           },
           "yaxis": {
            "backgroundcolor": "#E5ECF6",
            "gridcolor": "white",
            "gridwidth": 2,
            "linecolor": "white",
            "showbackground": true,
            "ticks": "",
            "zerolinecolor": "white"
           },
           "zaxis": {
            "backgroundcolor": "#E5ECF6",
            "gridcolor": "white",
            "gridwidth": 2,
            "linecolor": "white",
            "showbackground": true,
            "ticks": "",
            "zerolinecolor": "white"
           }
          },
          "shapedefaults": {
           "line": {
            "color": "#2a3f5f"
           }
          },
          "ternary": {
           "aaxis": {
            "gridcolor": "white",
            "linecolor": "white",
            "ticks": ""
           },
           "baxis": {
            "gridcolor": "white",
            "linecolor": "white",
            "ticks": ""
           },
           "bgcolor": "#E5ECF6",
           "caxis": {
            "gridcolor": "white",
            "linecolor": "white",
            "ticks": ""
           }
          },
          "title": {
           "x": 0.05
          },
          "xaxis": {
           "automargin": true,
           "gridcolor": "white",
           "linecolor": "white",
           "ticks": "",
           "title": {
            "standoff": 15
           },
           "zerolinecolor": "white",
           "zerolinewidth": 2
          },
          "yaxis": {
           "automargin": true,
           "gridcolor": "white",
           "linecolor": "white",
           "ticks": "",
           "title": {
            "standoff": 15
           },
           "zerolinecolor": "white",
           "zerolinewidth": 2
          }
         }
        },
        "width": 600,
        "xaxis": {
         "anchor": "y",
         "domain": [
          0,
          1
         ],
         "title": {
          "text": "type_numeric"
         }
        },
        "yaxis": {
         "anchor": "x",
         "domain": [
          0,
          1
         ],
         "title": {
          "text": "count"
         }
        }
       }
      }
     },
     "metadata": {},
     "output_type": "display_data"
    }
   ],
   "source": [
    "# utiliza la biblioteca plotly express para generar un gráfico del\n",
    "# columna 'type_numeric' que muestra la cantidad de cada tipo\n",
    "# de animales\n",
    "fig = px.histogram(df_zoo_renamed, x = 'type_numeric')\n",
    "fig.update_layout(bargap = 0.2, width = 600, height = 400)\n",
    "fig.show()"
   ]
  },
  {
   "cell_type": "code",
   "execution_count": 1024,
   "metadata": {},
   "outputs": [
    {
     "data": {
      "text/html": [
       "<div>\n",
       "<style scoped>\n",
       "    .dataframe tbody tr th:only-of-type {\n",
       "        vertical-align: middle;\n",
       "    }\n",
       "\n",
       "    .dataframe tbody tr th {\n",
       "        vertical-align: top;\n",
       "    }\n",
       "\n",
       "    .dataframe thead th {\n",
       "        text-align: right;\n",
       "    }\n",
       "</style>\n",
       "<table border=\"1\" class=\"dataframe\">\n",
       "  <thead>\n",
       "    <tr style=\"text-align: right;\">\n",
       "      <th></th>\n",
       "      <th>type_numeric</th>\n",
       "      <th>contagem</th>\n",
       "    </tr>\n",
       "  </thead>\n",
       "  <tbody>\n",
       "    <tr>\n",
       "      <th>0</th>\n",
       "      <td>Mammal</td>\n",
       "      <td>41</td>\n",
       "    </tr>\n",
       "    <tr>\n",
       "      <th>1</th>\n",
       "      <td>Bird</td>\n",
       "      <td>20</td>\n",
       "    </tr>\n",
       "    <tr>\n",
       "      <th>2</th>\n",
       "      <td>Fish Count</td>\n",
       "      <td>13</td>\n",
       "    </tr>\n",
       "    <tr>\n",
       "      <th>3</th>\n",
       "      <td>Invertebrate</td>\n",
       "      <td>10</td>\n",
       "    </tr>\n",
       "    <tr>\n",
       "      <th>4</th>\n",
       "      <td>Bug</td>\n",
       "      <td>8</td>\n",
       "    </tr>\n",
       "    <tr>\n",
       "      <th>5</th>\n",
       "      <td>Reptile</td>\n",
       "      <td>5</td>\n",
       "    </tr>\n",
       "    <tr>\n",
       "      <th>6</th>\n",
       "      <td>Amphibian</td>\n",
       "      <td>4</td>\n",
       "    </tr>\n",
       "  </tbody>\n",
       "</table>\n",
       "</div>"
      ],
      "text/plain": [
       "   type_numeric  contagem\n",
       "0        Mammal        41\n",
       "1          Bird        20\n",
       "2    Fish Count        13\n",
       "3  Invertebrate        10\n",
       "4           Bug         8\n",
       "5       Reptile         5\n",
       "6     Amphibian         4"
      ]
     },
     "execution_count": 1024,
     "metadata": {},
     "output_type": "execute_result"
    }
   ],
   "source": [
    "# cuenta los valores únicos presentes en la columna\n",
    "# 'type_numeric', los almacena junto con los datos de la columna\n",
    "# en un nuevo marco de datos y cambiar el nombre de las columnas\n",
    "count_class_type = df_zoo_renamed['type_numeric'].value_counts().reset_index()\n",
    "count_class_type.columns = ['type_numeric', 'contagem']\n",
    "count_class_type"
   ]
  },
  {
   "cell_type": "code",
   "execution_count": 1025,
   "metadata": {},
   "outputs": [
    {
     "data": {
      "application/vnd.plotly.v1+json": {
       "config": {
        "plotlyServerURL": "https://plot.ly"
       },
       "data": [
        {
         "domain": {
          "x": [
           0,
           1
          ],
          "y": [
           0,
           1
          ]
         },
         "hovertemplate": "type_numeric=%{label}<br>contagem=%{value}<extra></extra>",
         "labels": [
          "Mammal",
          "Bird",
          "Fish Count",
          "Invertebrate",
          "Bug",
          "Reptile",
          "Amphibian"
         ],
         "legendgroup": "",
         "name": "",
         "showlegend": true,
         "type": "pie",
         "values": [
          41,
          20,
          13,
          10,
          8,
          5,
          4
         ]
        }
       ],
       "layout": {
        "height": 400,
        "legend": {
         "tracegroupgap": 0
        },
        "margin": {
         "t": 60
        },
        "template": {
         "data": {
          "bar": [
           {
            "error_x": {
             "color": "#2a3f5f"
            },
            "error_y": {
             "color": "#2a3f5f"
            },
            "marker": {
             "line": {
              "color": "#E5ECF6",
              "width": 0.5
             },
             "pattern": {
              "fillmode": "overlay",
              "size": 10,
              "solidity": 0.2
             }
            },
            "type": "bar"
           }
          ],
          "barpolar": [
           {
            "marker": {
             "line": {
              "color": "#E5ECF6",
              "width": 0.5
             },
             "pattern": {
              "fillmode": "overlay",
              "size": 10,
              "solidity": 0.2
             }
            },
            "type": "barpolar"
           }
          ],
          "carpet": [
           {
            "aaxis": {
             "endlinecolor": "#2a3f5f",
             "gridcolor": "white",
             "linecolor": "white",
             "minorgridcolor": "white",
             "startlinecolor": "#2a3f5f"
            },
            "baxis": {
             "endlinecolor": "#2a3f5f",
             "gridcolor": "white",
             "linecolor": "white",
             "minorgridcolor": "white",
             "startlinecolor": "#2a3f5f"
            },
            "type": "carpet"
           }
          ],
          "choropleth": [
           {
            "colorbar": {
             "outlinewidth": 0,
             "ticks": ""
            },
            "type": "choropleth"
           }
          ],
          "contour": [
           {
            "colorbar": {
             "outlinewidth": 0,
             "ticks": ""
            },
            "colorscale": [
             [
              0,
              "#0d0887"
             ],
             [
              0.1111111111111111,
              "#46039f"
             ],
             [
              0.2222222222222222,
              "#7201a8"
             ],
             [
              0.3333333333333333,
              "#9c179e"
             ],
             [
              0.4444444444444444,
              "#bd3786"
             ],
             [
              0.5555555555555556,
              "#d8576b"
             ],
             [
              0.6666666666666666,
              "#ed7953"
             ],
             [
              0.7777777777777778,
              "#fb9f3a"
             ],
             [
              0.8888888888888888,
              "#fdca26"
             ],
             [
              1,
              "#f0f921"
             ]
            ],
            "type": "contour"
           }
          ],
          "contourcarpet": [
           {
            "colorbar": {
             "outlinewidth": 0,
             "ticks": ""
            },
            "type": "contourcarpet"
           }
          ],
          "heatmap": [
           {
            "colorbar": {
             "outlinewidth": 0,
             "ticks": ""
            },
            "colorscale": [
             [
              0,
              "#0d0887"
             ],
             [
              0.1111111111111111,
              "#46039f"
             ],
             [
              0.2222222222222222,
              "#7201a8"
             ],
             [
              0.3333333333333333,
              "#9c179e"
             ],
             [
              0.4444444444444444,
              "#bd3786"
             ],
             [
              0.5555555555555556,
              "#d8576b"
             ],
             [
              0.6666666666666666,
              "#ed7953"
             ],
             [
              0.7777777777777778,
              "#fb9f3a"
             ],
             [
              0.8888888888888888,
              "#fdca26"
             ],
             [
              1,
              "#f0f921"
             ]
            ],
            "type": "heatmap"
           }
          ],
          "heatmapgl": [
           {
            "colorbar": {
             "outlinewidth": 0,
             "ticks": ""
            },
            "colorscale": [
             [
              0,
              "#0d0887"
             ],
             [
              0.1111111111111111,
              "#46039f"
             ],
             [
              0.2222222222222222,
              "#7201a8"
             ],
             [
              0.3333333333333333,
              "#9c179e"
             ],
             [
              0.4444444444444444,
              "#bd3786"
             ],
             [
              0.5555555555555556,
              "#d8576b"
             ],
             [
              0.6666666666666666,
              "#ed7953"
             ],
             [
              0.7777777777777778,
              "#fb9f3a"
             ],
             [
              0.8888888888888888,
              "#fdca26"
             ],
             [
              1,
              "#f0f921"
             ]
            ],
            "type": "heatmapgl"
           }
          ],
          "histogram": [
           {
            "marker": {
             "pattern": {
              "fillmode": "overlay",
              "size": 10,
              "solidity": 0.2
             }
            },
            "type": "histogram"
           }
          ],
          "histogram2d": [
           {
            "colorbar": {
             "outlinewidth": 0,
             "ticks": ""
            },
            "colorscale": [
             [
              0,
              "#0d0887"
             ],
             [
              0.1111111111111111,
              "#46039f"
             ],
             [
              0.2222222222222222,
              "#7201a8"
             ],
             [
              0.3333333333333333,
              "#9c179e"
             ],
             [
              0.4444444444444444,
              "#bd3786"
             ],
             [
              0.5555555555555556,
              "#d8576b"
             ],
             [
              0.6666666666666666,
              "#ed7953"
             ],
             [
              0.7777777777777778,
              "#fb9f3a"
             ],
             [
              0.8888888888888888,
              "#fdca26"
             ],
             [
              1,
              "#f0f921"
             ]
            ],
            "type": "histogram2d"
           }
          ],
          "histogram2dcontour": [
           {
            "colorbar": {
             "outlinewidth": 0,
             "ticks": ""
            },
            "colorscale": [
             [
              0,
              "#0d0887"
             ],
             [
              0.1111111111111111,
              "#46039f"
             ],
             [
              0.2222222222222222,
              "#7201a8"
             ],
             [
              0.3333333333333333,
              "#9c179e"
             ],
             [
              0.4444444444444444,
              "#bd3786"
             ],
             [
              0.5555555555555556,
              "#d8576b"
             ],
             [
              0.6666666666666666,
              "#ed7953"
             ],
             [
              0.7777777777777778,
              "#fb9f3a"
             ],
             [
              0.8888888888888888,
              "#fdca26"
             ],
             [
              1,
              "#f0f921"
             ]
            ],
            "type": "histogram2dcontour"
           }
          ],
          "mesh3d": [
           {
            "colorbar": {
             "outlinewidth": 0,
             "ticks": ""
            },
            "type": "mesh3d"
           }
          ],
          "parcoords": [
           {
            "line": {
             "colorbar": {
              "outlinewidth": 0,
              "ticks": ""
             }
            },
            "type": "parcoords"
           }
          ],
          "pie": [
           {
            "automargin": true,
            "type": "pie"
           }
          ],
          "scatter": [
           {
            "fillpattern": {
             "fillmode": "overlay",
             "size": 10,
             "solidity": 0.2
            },
            "type": "scatter"
           }
          ],
          "scatter3d": [
           {
            "line": {
             "colorbar": {
              "outlinewidth": 0,
              "ticks": ""
             }
            },
            "marker": {
             "colorbar": {
              "outlinewidth": 0,
              "ticks": ""
             }
            },
            "type": "scatter3d"
           }
          ],
          "scattercarpet": [
           {
            "marker": {
             "colorbar": {
              "outlinewidth": 0,
              "ticks": ""
             }
            },
            "type": "scattercarpet"
           }
          ],
          "scattergeo": [
           {
            "marker": {
             "colorbar": {
              "outlinewidth": 0,
              "ticks": ""
             }
            },
            "type": "scattergeo"
           }
          ],
          "scattergl": [
           {
            "marker": {
             "colorbar": {
              "outlinewidth": 0,
              "ticks": ""
             }
            },
            "type": "scattergl"
           }
          ],
          "scattermapbox": [
           {
            "marker": {
             "colorbar": {
              "outlinewidth": 0,
              "ticks": ""
             }
            },
            "type": "scattermapbox"
           }
          ],
          "scatterpolar": [
           {
            "marker": {
             "colorbar": {
              "outlinewidth": 0,
              "ticks": ""
             }
            },
            "type": "scatterpolar"
           }
          ],
          "scatterpolargl": [
           {
            "marker": {
             "colorbar": {
              "outlinewidth": 0,
              "ticks": ""
             }
            },
            "type": "scatterpolargl"
           }
          ],
          "scatterternary": [
           {
            "marker": {
             "colorbar": {
              "outlinewidth": 0,
              "ticks": ""
             }
            },
            "type": "scatterternary"
           }
          ],
          "surface": [
           {
            "colorbar": {
             "outlinewidth": 0,
             "ticks": ""
            },
            "colorscale": [
             [
              0,
              "#0d0887"
             ],
             [
              0.1111111111111111,
              "#46039f"
             ],
             [
              0.2222222222222222,
              "#7201a8"
             ],
             [
              0.3333333333333333,
              "#9c179e"
             ],
             [
              0.4444444444444444,
              "#bd3786"
             ],
             [
              0.5555555555555556,
              "#d8576b"
             ],
             [
              0.6666666666666666,
              "#ed7953"
             ],
             [
              0.7777777777777778,
              "#fb9f3a"
             ],
             [
              0.8888888888888888,
              "#fdca26"
             ],
             [
              1,
              "#f0f921"
             ]
            ],
            "type": "surface"
           }
          ],
          "table": [
           {
            "cells": {
             "fill": {
              "color": "#EBF0F8"
             },
             "line": {
              "color": "white"
             }
            },
            "header": {
             "fill": {
              "color": "#C8D4E3"
             },
             "line": {
              "color": "white"
             }
            },
            "type": "table"
           }
          ]
         },
         "layout": {
          "annotationdefaults": {
           "arrowcolor": "#2a3f5f",
           "arrowhead": 0,
           "arrowwidth": 1
          },
          "autotypenumbers": "strict",
          "coloraxis": {
           "colorbar": {
            "outlinewidth": 0,
            "ticks": ""
           }
          },
          "colorscale": {
           "diverging": [
            [
             0,
             "#8e0152"
            ],
            [
             0.1,
             "#c51b7d"
            ],
            [
             0.2,
             "#de77ae"
            ],
            [
             0.3,
             "#f1b6da"
            ],
            [
             0.4,
             "#fde0ef"
            ],
            [
             0.5,
             "#f7f7f7"
            ],
            [
             0.6,
             "#e6f5d0"
            ],
            [
             0.7,
             "#b8e186"
            ],
            [
             0.8,
             "#7fbc41"
            ],
            [
             0.9,
             "#4d9221"
            ],
            [
             1,
             "#276419"
            ]
           ],
           "sequential": [
            [
             0,
             "#0d0887"
            ],
            [
             0.1111111111111111,
             "#46039f"
            ],
            [
             0.2222222222222222,
             "#7201a8"
            ],
            [
             0.3333333333333333,
             "#9c179e"
            ],
            [
             0.4444444444444444,
             "#bd3786"
            ],
            [
             0.5555555555555556,
             "#d8576b"
            ],
            [
             0.6666666666666666,
             "#ed7953"
            ],
            [
             0.7777777777777778,
             "#fb9f3a"
            ],
            [
             0.8888888888888888,
             "#fdca26"
            ],
            [
             1,
             "#f0f921"
            ]
           ],
           "sequentialminus": [
            [
             0,
             "#0d0887"
            ],
            [
             0.1111111111111111,
             "#46039f"
            ],
            [
             0.2222222222222222,
             "#7201a8"
            ],
            [
             0.3333333333333333,
             "#9c179e"
            ],
            [
             0.4444444444444444,
             "#bd3786"
            ],
            [
             0.5555555555555556,
             "#d8576b"
            ],
            [
             0.6666666666666666,
             "#ed7953"
            ],
            [
             0.7777777777777778,
             "#fb9f3a"
            ],
            [
             0.8888888888888888,
             "#fdca26"
            ],
            [
             1,
             "#f0f921"
            ]
           ]
          },
          "colorway": [
           "#636efa",
           "#EF553B",
           "#00cc96",
           "#ab63fa",
           "#FFA15A",
           "#19d3f3",
           "#FF6692",
           "#B6E880",
           "#FF97FF",
           "#FECB52"
          ],
          "font": {
           "color": "#2a3f5f"
          },
          "geo": {
           "bgcolor": "white",
           "lakecolor": "white",
           "landcolor": "#E5ECF6",
           "showlakes": true,
           "showland": true,
           "subunitcolor": "white"
          },
          "hoverlabel": {
           "align": "left"
          },
          "hovermode": "closest",
          "mapbox": {
           "style": "light"
          },
          "paper_bgcolor": "white",
          "plot_bgcolor": "#E5ECF6",
          "polar": {
           "angularaxis": {
            "gridcolor": "white",
            "linecolor": "white",
            "ticks": ""
           },
           "bgcolor": "#E5ECF6",
           "radialaxis": {
            "gridcolor": "white",
            "linecolor": "white",
            "ticks": ""
           }
          },
          "scene": {
           "xaxis": {
            "backgroundcolor": "#E5ECF6",
            "gridcolor": "white",
            "gridwidth": 2,
            "linecolor": "white",
            "showbackground": true,
            "ticks": "",
            "zerolinecolor": "white"
           },
           "yaxis": {
            "backgroundcolor": "#E5ECF6",
            "gridcolor": "white",
            "gridwidth": 2,
            "linecolor": "white",
            "showbackground": true,
            "ticks": "",
            "zerolinecolor": "white"
           },
           "zaxis": {
            "backgroundcolor": "#E5ECF6",
            "gridcolor": "white",
            "gridwidth": 2,
            "linecolor": "white",
            "showbackground": true,
            "ticks": "",
            "zerolinecolor": "white"
           }
          },
          "shapedefaults": {
           "line": {
            "color": "#2a3f5f"
           }
          },
          "ternary": {
           "aaxis": {
            "gridcolor": "white",
            "linecolor": "white",
            "ticks": ""
           },
           "baxis": {
            "gridcolor": "white",
            "linecolor": "white",
            "ticks": ""
           },
           "bgcolor": "#E5ECF6",
           "caxis": {
            "gridcolor": "white",
            "linecolor": "white",
            "ticks": ""
           }
          },
          "title": {
           "x": 0.05
          },
          "xaxis": {
           "automargin": true,
           "gridcolor": "white",
           "linecolor": "white",
           "ticks": "",
           "title": {
            "standoff": 15
           },
           "zerolinecolor": "white",
           "zerolinewidth": 2
          },
          "yaxis": {
           "automargin": true,
           "gridcolor": "white",
           "linecolor": "white",
           "ticks": "",
           "title": {
            "standoff": 15
           },
           "zerolinecolor": "white",
           "zerolinewidth": 2
          }
         }
        },
        "width": 600
       }
      }
     },
     "metadata": {},
     "output_type": "display_data"
    }
   ],
   "source": [
    "# generar un gráfico circular usando el marco de datos generado arriba\n",
    "# también clasificando animales por sus respectivos tipos\n",
    "fig = px.pie(count_class_type, names='type_numeric', values='contagem')\n",
    "fig.update_layout(width = 600, height = 400)\n",
    "fig.show()"
   ]
  },
  {
   "cell_type": "code",
   "execution_count": 1026,
   "metadata": {},
   "outputs": [],
   "source": [
    "# eliminamos las columnas 'animal_name' y 'type_numeric' ya que son iguales\n",
    "# no tendrá valor para el gráfico generado a continuación\n",
    "df_zoo_drop = df_zoo.drop(['animal_name', 'type_numeric'], axis = 1)"
   ]
  },
  {
   "cell_type": "code",
   "execution_count": 1027,
   "metadata": {},
   "outputs": [],
   "source": [
    "# generar una matriz de correlación entre las columnas del marco de datos\n",
    "matriz_zoo = df_zoo_drop.corr()"
   ]
  },
  {
   "cell_type": "code",
   "execution_count": 1028,
   "metadata": {},
   "outputs": [
    {
     "data": {
      "image/png": "[encoded data removed]",
      "text/plain": [
       "<Figure size 1200x800 with 2 Axes>"
      ]
     },
     "metadata": {},
     "output_type": "display_data"
    }
   ],
   "source": [
    "# generar un gráfico de correlación usando la matriz anterior para\n",
    "# relacionar todas las columnas del marco de datos entre sí, donde el\n",
    "# el coeficiente 1 indica relación total y -1 ninguna relación\n",
    "plt.figure(figsize = (12, 8))\n",
    "sns.heatmap(matriz_zoo, annot = True, cmap = 'coolwarm')\n",
    "plt.show()"
   ]
  },
  {
   "cell_type": "code",
   "execution_count": 1029,
   "metadata": {},
   "outputs": [],
   "source": [
    "# Preprocesamiento de datos\n",
    "# eliminando las columnas 'animal_name' y 'tipo_clase' y almacenando\n",
    "# en la variable X que se utilizará como datos de prueba más adelante\n",
    "X = df_zoo.drop(['animal_name', 'type_numeric'], axis = 1)"
   ]
  },
  {
   "cell_type": "code",
   "execution_count": 1030,
   "metadata": {},
   "outputs": [
    {
     "data": {
      "text/html": [
       "<div>\n",
       "<style scoped>\n",
       "    .dataframe tbody tr th:only-of-type {\n",
       "        vertical-align: middle;\n",
       "    }\n",
       "\n",
       "    .dataframe tbody tr th {\n",
       "        vertical-align: top;\n",
       "    }\n",
       "\n",
       "    .dataframe thead th {\n",
       "        text-align: right;\n",
       "    }\n",
       "</style>\n",
       "<table border=\"1\" class=\"dataframe\">\n",
       "  <thead>\n",
       "    <tr style=\"text-align: right;\">\n",
       "      <th></th>\n",
       "      <th>hair_boolean</th>\n",
       "      <th>feathers_boolean</th>\n",
       "      <th>eggs_boolean</th>\n",
       "      <th>milk_boolean</th>\n",
       "      <th>airborne_boolean</th>\n",
       "      <th>aquatic_boolean</th>\n",
       "      <th>predator_boolean</th>\n",
       "      <th>toothed_boolean</th>\n",
       "      <th>backbone_boolean</th>\n",
       "      <th>breathes_boolean</th>\n",
       "      <th>venomous_boolean</th>\n",
       "      <th>fins_boolean</th>\n",
       "      <th>legs_numeric</th>\n",
       "      <th>tail_boolean</th>\n",
       "      <th>domestic_boolean</th>\n",
       "      <th>catsize_boolean</th>\n",
       "    </tr>\n",
       "  </thead>\n",
       "  <tbody>\n",
       "    <tr>\n",
       "      <th>0</th>\n",
       "      <td>1</td>\n",
       "      <td>0</td>\n",
       "      <td>0</td>\n",
       "      <td>1</td>\n",
       "      <td>0</td>\n",
       "      <td>0</td>\n",
       "      <td>1</td>\n",
       "      <td>1</td>\n",
       "      <td>1</td>\n",
       "      <td>1</td>\n",
       "      <td>0</td>\n",
       "      <td>0</td>\n",
       "      <td>4</td>\n",
       "      <td>0</td>\n",
       "      <td>0</td>\n",
       "      <td>1</td>\n",
       "    </tr>\n",
       "    <tr>\n",
       "      <th>1</th>\n",
       "      <td>1</td>\n",
       "      <td>0</td>\n",
       "      <td>0</td>\n",
       "      <td>1</td>\n",
       "      <td>0</td>\n",
       "      <td>0</td>\n",
       "      <td>0</td>\n",
       "      <td>1</td>\n",
       "      <td>1</td>\n",
       "      <td>1</td>\n",
       "      <td>0</td>\n",
       "      <td>0</td>\n",
       "      <td>4</td>\n",
       "      <td>1</td>\n",
       "      <td>0</td>\n",
       "      <td>1</td>\n",
       "    </tr>\n",
       "    <tr>\n",
       "      <th>2</th>\n",
       "      <td>0</td>\n",
       "      <td>0</td>\n",
       "      <td>1</td>\n",
       "      <td>0</td>\n",
       "      <td>0</td>\n",
       "      <td>1</td>\n",
       "      <td>1</td>\n",
       "      <td>1</td>\n",
       "      <td>1</td>\n",
       "      <td>0</td>\n",
       "      <td>0</td>\n",
       "      <td>1</td>\n",
       "      <td>0</td>\n",
       "      <td>1</td>\n",
       "      <td>0</td>\n",
       "      <td>0</td>\n",
       "    </tr>\n",
       "  </tbody>\n",
       "</table>\n",
       "</div>"
      ],
      "text/plain": [
       "   hair_boolean  feathers_boolean  eggs_boolean  milk_boolean  \\\n",
       "0             1                 0             0             1   \n",
       "1             1                 0             0             1   \n",
       "2             0                 0             1             0   \n",
       "\n",
       "   airborne_boolean  aquatic_boolean  predator_boolean  toothed_boolean  \\\n",
       "0                 0                0                 1                1   \n",
       "1                 0                0                 0                1   \n",
       "2                 0                1                 1                1   \n",
       "\n",
       "   backbone_boolean  breathes_boolean  venomous_boolean  fins_boolean  \\\n",
       "0                 1                 1                 0             0   \n",
       "1                 1                 1                 0             0   \n",
       "2                 1                 0                 0             1   \n",
       "\n",
       "   legs_numeric  tail_boolean  domestic_boolean  catsize_boolean  \n",
       "0             4             0                 0                1  \n",
       "1             4             1                 0                1  \n",
       "2             0             1                 0                0  "
      ]
     },
     "execution_count": 1030,
     "metadata": {},
     "output_type": "execute_result"
    }
   ],
   "source": [
    "X.head(3)"
   ]
  },
  {
   "cell_type": "code",
   "execution_count": 1031,
   "metadata": {},
   "outputs": [],
   "source": [
    "# crear un nuevo marco de datos con solo la columna 'type_numeric'\n",
    "df_zoo_binario = df_zoo['type_numeric']"
   ]
  },
  {
   "cell_type": "code",
   "execution_count": 1032,
   "metadata": {},
   "outputs": [],
   "source": [
    "# cambia el nombre de todos los valores en la columna 'type_numeric' a\n",
    "# para sus respectivos tipos\n",
    "df_zoo_binario = df_zoo_binario.replace(1, 'Mammal')\n",
    "df_zoo_binario = df_zoo_binario.replace(2, 'Bird')\n",
    "df_zoo_binario = df_zoo_binario.replace(3, 'Reptile')\n",
    "df_zoo_binario = df_zoo_binario.replace(4, 'Fish')\n",
    "df_zoo_binario = df_zoo_binario.replace(5, 'Amphibian')\n",
    "df_zoo_binario = df_zoo_binario.replace(6, 'Bug')\n",
    "df_zoo_binario = df_zoo_binario.replace(7, 'Invertebrate')"
   ]
  },
  {
   "cell_type": "code",
   "execution_count": 1033,
   "metadata": {},
   "outputs": [
    {
     "data": {
      "text/plain": [
       "type_numeric\n",
       "Mammal          41\n",
       "Bird            20\n",
       "Fish            13\n",
       "Invertebrate    10\n",
       "Bug              8\n",
       "Reptile          5\n",
       "Amphibian        4\n",
       "Name: count, dtype: int64"
      ]
     },
     "execution_count": 1033,
     "metadata": {},
     "output_type": "execute_result"
    }
   ],
   "source": [
    "# marco de datos que clasifica animales solo en mamíferos\n",
    "# y no mamíferos\n",
    "df_zoo_binario.value_counts()"
   ]
  },
  {
   "cell_type": "code",
   "execution_count": 1034,
   "metadata": {},
   "outputs": [],
   "source": [
    "# asignar el marco de datos df_zoo_binario como valor y\n",
    "y = df_zoo_binario"
   ]
  },
  {
   "cell_type": "code",
   "execution_count": 1035,
   "metadata": {},
   "outputs": [],
   "source": [
    "# Machine Lerning\n",
    "# KNN"
   ]
  },
  {
   "cell_type": "code",
   "execution_count": 1036,
   "metadata": {},
   "outputs": [],
   "source": [
    "x_train,x_test,y_train,y_test = train_test_split(X,y,test_size=.3,random_state=2,stratify=y)"
   ]
  },
  {
   "cell_type": "code",
   "execution_count": 1037,
   "metadata": {},
   "outputs": [
    {
     "name": "stdout",
     "output_type": "stream",
     "text": [
      "Mejor precisión del entrenamiento:-  1.0\n",
      "Mejor precisión de prueba:-  1.0\n"
     ]
    },
    {
     "data": {
      "image/png": "[encoded data removed]",
      "text/plain": [
       "<Figure size 1000x400 with 1 Axes>"
      ]
     },
     "metadata": {},
     "output_type": "display_data"
    }
   ],
   "source": [
    "# Construyendo modal usando KNN\n",
    "k = range(1,20)\n",
    "trainingAccuracy = []\n",
    "testAccuracy=[]\n",
    "for i in k:\n",
    "    knn = KNeighborsClassifier(n_neighbors=i,n_jobs=15,p=1,weights='distance')\n",
    "    knn.fit(x_train,y_train)\n",
    "    trainingacc = knn.score(x_train,y_train)\n",
    "    trainingAccuracy.append(trainingacc)\n",
    "    testAccuracy.append(knn.score(x_test,y_test))\n",
    "\n",
    "fig, axes = plt.subplots(nrows=1, ncols=1, figsize=(10,4))\n",
    "plt.xlabel(\"valor de k\")\n",
    "plt.ylabel(\"Precisión de las pruebas y la formación.\")\n",
    "plt.title(\"Seleccione el mejor valor de k\")\n",
    "plt.plot(k,trainingAccuracy)\n",
    "plt.plot(k,testAccuracy)\n",
    "axes.legend([\"Precisión del entrenamiento\",\"Precisión de la prueba\"])\n",
    "print(\"Mejor precisión del entrenamiento:- \", max(trainingAccuracy)) \n",
    "print(\"Mejor precisión de prueba:- \", max(testAccuracy))"
   ]
  },
  {
   "cell_type": "code",
   "execution_count": 1038,
   "metadata": {},
   "outputs": [
    {
     "name": "stdout",
     "output_type": "stream",
     "text": [
      "Mejor puntuación en división de 3 pliegues Datos en división de entrenamiento: - 0.9432367149758454\n",
      "Mejor parámetro: {'n_neighbors': 4, 'p': 2, 'weights': 'distance'}\n",
      "Mejor métrica KNN: KNeighborsClassifier(n_neighbors=4, weights='distance')\n",
      "Precisión del entrenamiento 1.0\n",
      "Precisión de la prueba 0.9354838709677419\n"
     ]
    },
    {
     "name": "stderr",
     "output_type": "stream",
     "text": [
      "c:\\Users\\diego\\AppData\\Local\\Programs\\Python\\Python311\\Lib\\site-packages\\sklearn\\model_selection\\_search.py:979: UserWarning:\n",
      "\n",
      "One or more of the test scores are non-finite: [0.9281401  0.9281401  0.94263285 0.94263285 0.90036232 0.9281401\n",
      " 0.90036232 0.94263285 0.91485507 0.92874396 0.90036232 0.92874396\n",
      " 0.87258454 0.92874396 0.85809179 0.94323671 0.85809179 0.94323671\n",
      " 0.85809179 0.92934783 0.82910628 0.92874396 0.78623188 0.88647343\n",
      " 0.82910628 0.91485507 0.80072464 0.82910628 0.81521739 0.90036232\n",
      " 0.80072464 0.82910628 0.80072464 0.89975845 0.80072464 0.82910628\n",
      " 0.80072464 0.89975845 0.80072464 0.82910628 0.80072464 0.88586957\n",
      " 0.80072464 0.82910628 0.80072464 0.88586957 0.78623188 0.82910628\n",
      " 0.80072464 0.88586957 0.80072464 0.82910628 0.81461353 0.87137681\n",
      " 0.74396135 0.82910628 0.81461353 0.87137681 0.70108696 0.82910628\n",
      " 0.81461353 0.87137681 0.64432367 0.82910628 0.75785024 0.85748792\n",
      " 0.62983092 0.82910628 0.7294686  0.87137681 0.60084541 0.82910628\n",
      " 0.64371981 0.87137681 0.58635266 0.78683575 0.6147343  0.88586957\n",
      " 0.58635266 0.78683575 0.60024155 0.88586957 0.58635266 0.74335749\n",
      " 0.60024155 0.88586957 0.58635266 0.74335749 0.60024155 0.88586957\n",
      " 0.58635266 0.74335749 0.60024155 0.88586957 0.58635266 0.74335749\n",
      " 0.60024155 0.87137681 0.58635266 0.74335749 0.60024155 0.87137681\n",
      " 0.55797101 0.74335749 0.58635266 0.87137681 0.50060386 0.74335749\n",
      " 0.5718599  0.88586957 0.50060386 0.74335749 0.5718599  0.88586957\n",
      " 0.48671498 0.74335749 0.55797101 0.88586957 0.50060386 0.75724638\n",
      " 0.52898551 0.87198068 0.41364734 0.75724638 0.52898551 0.87198068\n",
      " 0.39975845 0.75724638 0.48611111 0.87198068 0.39975845 0.75724638\n",
      " 0.45772947 0.87198068 0.39975845 0.75724638 0.44323671 0.87198068\n",
      " 0.39975845 0.75724638 0.42874396 0.87198068 0.39975845 0.75724638\n",
      " 0.39975845 0.87198068 0.39975845 0.75724638 0.39975845 0.87198068\n",
      " 0.39975845 0.75724638 0.39975845 0.87198068 0.39975845 0.75724638\n",
      " 0.39975845 0.87198068 0.39975845 0.74275362 0.39975845 0.87198068\n",
      " 0.39975845 0.74275362 0.39975845 0.87198068 0.39975845 0.74275362\n",
      " 0.39975845 0.85748792 0.39975845 0.74275362 0.39975845 0.84299517\n",
      " 0.39975845 0.74275362 0.39975845 0.84299517 0.39975845 0.74275362\n",
      " 0.39975845 0.84299517 0.39975845 0.74275362        nan        nan\n",
      "        nan        nan        nan        nan        nan        nan\n",
      "        nan        nan        nan        nan]\n",
      "\n"
     ]
    }
   ],
   "source": [
    "# Descubriendo los mejores parámetros de hiperajuste de KNN\n",
    "k_range = list(range(1,50))\n",
    "weight_options = [\"uniform\", \"distance\"]\n",
    "pe=[1,2]\n",
    "\n",
    "param_grid = dict(n_neighbors = k_range, weights = weight_options,p=pe)\n",
    "knn = KNeighborsClassifier()\n",
    "\n",
    "knngrid = GridSearchCV(knn, param_grid, cv = 3, scoring = 'accuracy',n_jobs=15)\n",
    "knngrid.fit(x_train,y_train)\n",
    "\n",
    "print(\"Mejor puntuación en división de 3 pliegues Datos en división de entrenamiento: -\", knngrid.best_score_)\n",
    "print(\"Mejor parámetro:\", knngrid.best_params_)\n",
    "print(\"Mejor métrica KNN:\", knngrid.best_estimator_)\n",
    "\n",
    "print(f'Precisión del entrenamiento {knngrid.score(x_train, y_train)}')\n",
    "print(f'Precisión de la prueba {knngrid.score(x_test, y_test)}')\n"
   ]
  },
  {
   "cell_type": "code",
   "execution_count": 1039,
   "metadata": {},
   "outputs": [
    {
     "name": "stdout",
     "output_type": "stream",
     "text": [
      " Precisión del entrenamiento 1.0\n"
     ]
    },
    {
     "data": {
      "text/plain": [
       "'Precisión de la prueba 0.967741935483871'"
      ]
     },
     "execution_count": 1039,
     "metadata": {},
     "output_type": "execute_result"
    }
   ],
   "source": [
    "# Usando el modal de regresión logística\n",
    "from sklearn.linear_model import LogisticRegression\n",
    "log_model = LogisticRegression(solver='lbfgs', max_iter=1000)\n",
    "\n",
    "log_model.fit(x_train, y_train)\n",
    "\n",
    "print(f' Precisión del entrenamiento {log_model.score(x_train,y_train)}')\n",
    "f'Precisión de la prueba {log_model.score(x_test,y_test)}'"
   ]
  },
  {
   "cell_type": "code",
   "execution_count": 1040,
   "metadata": {},
   "outputs": [],
   "source": [
    "# Usando Neural Network"
   ]
  },
  {
   "cell_type": "code",
   "execution_count": 1041,
   "metadata": {},
   "outputs": [
    {
     "name": "stdout",
     "output_type": "stream",
     "text": [
      "Fitting 3 folds for each of 12 candidates, totalling 36 fits\n",
      " Precisión del entrenamiento 1.0\n"
     ]
    },
    {
     "data": {
      "text/plain": [
       "'Precisión de la prueba 1.0'"
      ]
     },
     "execution_count": 1041,
     "metadata": {},
     "output_type": "execute_result"
    }
   ],
   "source": [
    "# Elegir el mejor parámetro usando CV de búsqueda de cuadrícula\n",
    "folds = StratifiedKFold(n_splits=3, shuffle=True, random_state=4)\n",
    "param_grid = [\n",
    "        {\n",
    "            'activation' : ['identity', 'logistic', 'tanh', 'relu'],\n",
    "            'solver' : ['lbfgs', 'sgd', 'adam'],            \n",
    "        }]\n",
    "\n",
    "clf = GridSearchCV(MLPClassifier(), param_grid, cv=folds,\n",
    "scoring='accuracy',n_jobs=-1,verbose = 1,)\n",
    "clf.fit(x_train, y_train)\n",
    "\n",
    "print(f' Precisión del entrenamiento {clf.score(x_train,y_train)}')\n",
    "f'Precisión de la prueba {clf.score(x_test,y_test)}'"
   ]
  },
  {
   "cell_type": "code",
   "execution_count": 1042,
   "metadata": {},
   "outputs": [
    {
     "name": "stdout",
     "output_type": "stream",
     "text": [
      "Mejores hiperparámetros:  {'activation': 'logistic', 'solver': 'lbfgs'}\n",
      "Mejor estimador:  MLPClassifier(activation='logistic', solver='lbfgs')\n"
     ]
    }
   ],
   "source": [
    "cv_results = pd.DataFrame(clf.cv_results_)\n",
    "\n",
    "#imprimir el valor óptimo de los hiperparámetros\n",
    "print('Mejores hiperparámetros: ', clf.best_params_)\n",
    "print (\"Mejor estimador: \", clf.best_estimator_)\n",
    "\n"
   ]
  }
 ],
 "metadata": {
  "kernelspec": {
   "display_name": "Python 3",
   "language": "python",
   "name": "python3"
  },
  "language_info": {
   "codemirror_mode": {
    "name": "ipython",
    "version": 3
   },
   "file_extension": ".py",
   "mimetype": "text/x-python",
   "name": "python",
   "nbconvert_exporter": "python",
   "pygments_lexer": "ipython3",
   "version": "undefined.undefined.undefined"
  }
 },
 "nbformat": 4,
 "nbformat_minor": 2
}
